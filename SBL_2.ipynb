{
  "nbformat": 4,
  "nbformat_minor": 0,
  "metadata": {
    "colab": {
      "provenance": []
    },
    "kernelspec": {
      "name": "python3",
      "display_name": "Python 3"
    },
    "language_info": {
      "name": "python"
    }
  },
  "cells": [
    {
      "cell_type": "code",
      "source": [
        "class Employee:\n",
        "    def __init__(\n",
        "        self,\n",
        "        designation: str = 'Developer',\n",
        "        frontend: bool = False,\n",
        "        backend: bool = False\n",
        "    ):\n",
        "        self.designation = designation\n",
        "        self.frontend = frontend\n",
        "        self.backend = backend\n",
        "\n",
        "    def __repr__(self):\n",
        "        return '{}'.format(self.designation)\n",
        "\n",
        "    def verifier(self):\n",
        "        if self.frontend and self.backend:\n",
        "            return 'Fullstack'\n",
        "        elif self.frontend:\n",
        "            return 'Frontend Developer'\n",
        "        elif self.backend:\n",
        "            return 'Backend Developer'\n",
        "        else:\n",
        "            return 'Not a Developer'\n",
        "\n",
        "if __name__ == '__main__':\n",
        "    firstEmployee = Employee(frontend=True, backend=True)\n",
        "    print(firstEmployee.verifier())  # Output will be 'Fullstack'\n",
        "\n",
        "    secondEmployee = Employee(frontend=True, backend=False)\n",
        "    print(secondEmployee.verifier())  # Output will be 'Frontend Developer'\n",
        "\n",
        "    thirdEmployee = Employee(frontend=False, backend=True)\n",
        "    print(thirdEmployee.verifier())  # Output will be 'Backend Developer'\n",
        "\n",
        "    fourthEmployee = Employee(frontend=False, backend=False)\n",
        "    print(fourthEmployee.verifier())  # Output will be 'Not a Developer'\n"
      ],
      "metadata": {
        "colab": {
          "base_uri": "https://localhost:8080/"
        },
        "id": "UuZoVpQCQZBQ",
        "outputId": "39357427-379f-4d80-a311-f1101dbaced5"
      },
      "execution_count": 2,
      "outputs": [
        {
          "output_type": "stream",
          "name": "stdout",
          "text": [
            "Fullstack\n",
            "Frontend Developer\n",
            "Backend Developer\n",
            "Not a Developer\n"
          ]
        }
      ]
    }
  ]
}